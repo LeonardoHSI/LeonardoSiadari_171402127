{
 "cells": [
  {
   "cell_type": "code",
   "execution_count": 3,
   "metadata": {},
   "outputs": [
    {
     "name": "stdout",
     "output_type": "stream",
     "text": [
      "1\n",
      "1\n",
      "2\n",
      "3\n",
      "5\n",
      "8\n",
      "13\n",
      "21\n",
      "34\n",
      "55\n",
      "89\n"
     ]
    }
   ],
   "source": [
    "class Fibonacci(object):\n",
    "    def __init__(self):\n",
    "        self.x, self.y = 0, 1\n",
    "\n",
    "    def __iter__(self):\n",
    "        return self\n",
    "\n",
    "    def iter_n(self):\n",
    "        self.x, self.y = self.y, self.x + self.y\n",
    "        if self.x > 100: \n",
    "            raise StopIteration();\n",
    "        return self.x\n",
    "\n",
    "    def next(self):\n",
    "        return self.iter_n()\n",
    "\n",
    "    def __next__(self):\n",
    "        return self.iter_n()\n",
    "\n",
    "\n",
    "if __name__ == '__main__':\n",
    "    for i in Fibonacci():\n",
    "        print(i)"
   ]
  },
  {
   "cell_type": "code",
   "execution_count": null,
   "metadata": {},
   "outputs": [],
   "source": []
  }
 ],
 "metadata": {
  "kernelspec": {
   "display_name": "Python 3",
   "language": "python",
   "name": "python3"
  },
  "language_info": {
   "codemirror_mode": {
    "name": "ipython",
    "version": 3
   },
   "file_extension": ".py",
   "mimetype": "text/x-python",
   "name": "python",
   "nbconvert_exporter": "python",
   "pygments_lexer": "ipython3",
   "version": "3.7.2"
  }
 },
 "nbformat": 4,
 "nbformat_minor": 2
}
